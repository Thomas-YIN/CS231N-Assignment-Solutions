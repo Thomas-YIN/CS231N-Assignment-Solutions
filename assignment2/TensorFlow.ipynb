{
 "cells": [
  {
   "cell_type": "markdown",
   "metadata": {
    "id": "gY3EZLxeZ1sn"
   },
   "source": [
    "## What's this TensorFlow business?\n",
    "\n",
    "You've written a lot of code in this assignment to provide a whole host of neural network functionality. Dropout, Batch Norm, and 2D convolutions are some of the workhorses of deep learning in computer vision. You've also worked hard to make your code efficient and vectorized.\n",
    "\n",
    "For the last part of this assignment, though, we're going to leave behind your beautiful codebase and instead migrate to one of two popular deep learning frameworks: in this instance, TensorFlow (or PyTorch, if you switch over to that notebook)\n",
    "\n",
    "#### What is it?\n",
    "TensorFlow is a system for executing computational graphs over Tensor objects, with native support for performing backpropogation for its Variables. In it, we work with Tensors which are n-dimensional arrays analogous to the numpy ndarray.\n",
    "\n",
    "#### Why?\n",
    "\n",
    "* Our code will now run on GPUs! Much faster training. Writing your own modules to run on GPUs is beyond the scope of this class, unfortunately.\n",
    "* We want you to be ready to use one of these frameworks for your project so you can experiment more efficiently than if you were writing every feature you want to use by hand. \n",
    "* We want you to stand on the shoulders of giants! TensorFlow and PyTorch are both excellent frameworks that will make your lives a lot easier, and now that you understand their guts, you are free to use them :) \n",
    "* We want you to be exposed to the sort of deep learning code you might run into in academia or industry. "
   ]
  },
  {
   "cell_type": "markdown",
   "metadata": {
    "id": "5w4z3uoaZ1sp"
   },
   "source": [
    "## How will I learn TensorFlow?\n",
    "\n",
    "TensorFlow has many excellent tutorials available, including those from [Google themselves](https://www.tensorflow.org/get_started/get_started).\n",
    "\n",
    "Otherwise, this notebook will walk you through much of what you need to do to train models in TensorFlow. See the end of the notebook for some links to helpful tutorials if you want to learn more or need further clarification on topics that aren't fully explained here."
   ]
  },
  {
   "cell_type": "markdown",
   "metadata": {
    "id": "ZgaV5Sq9Z1sp"
   },
   "source": [
    "## Load Datasets\n"
   ]
  },
  {
   "cell_type": "code",
   "execution_count": 2,
   "metadata": {
    "colab": {
     "base_uri": "https://localhost:8080/"
    },
    "id": "jFIBlsiQBC1A",
    "outputId": "0636ad56-14ae-416c-9cf3-7d31aa86c3e3"
   },
   "outputs": [
    {
     "name": "stdout",
     "output_type": "stream",
     "text": [
      "Mounted at /content/drive\n",
      "/content/drive/My Drive/COMP4471_assignment2\n"
     ]
    }
   ],
   "source": [
    "from google.colab import drive\n",
    "drive.mount('/content/drive')\n",
    "\n",
    "# TODO: Enter the foldername in your Drive where you have saved the unzipped\n",
    "# assignment folder, e.g. 'cs231n/assignments/assignment1/'\n",
    "FOLDERNAME = 'COMP4471_assignment2/'\n",
    "assert FOLDERNAME is not None, \"[!] Enter the foldername.\"\n",
    "\n",
    "# Now that we've mounted your Drive, this ensures that\n",
    "# the Python interpreter of the Colab VM can load\n",
    "# python files from within it.\n",
    "import sys\n",
    "sys.path.append('/content/drive/My Drive/{}'.format(FOLDERNAME))\n",
    "\n",
    "# This downloads the CIFAR-10 dataset to your Drive\n",
    "# if it doesn't already exist.\n",
    "\n",
    "%cd /content/drive/My\\ Drive/$FOLDERNAME"
   ]
  },
  {
   "cell_type": "code",
   "execution_count": 3,
   "metadata": {
    "colab": {
     "base_uri": "https://localhost:8080/"
    },
    "collapsed": true,
    "id": "BhYoBxowZ1sp",
    "outputId": "ec4a0f19-d7fe-4db7-f142-d5551896a747"
   },
   "outputs": [
    {
     "name": "stderr",
     "output_type": "stream",
     "text": [
      "WARNING:tensorflow:From /usr/local/lib/python3.7/dist-packages/tensorflow/python/compat/v2_compat.py:107: disable_resource_variables (from tensorflow.python.ops.variable_scope) is deprecated and will be removed in a future version.\n",
      "Instructions for updating:\n",
      "non-resource variables are not supported in the long term\n"
     ]
    }
   ],
   "source": [
    "# import tensorflow as tf\n",
    "import tensorflow.compat.v1 as tf\n",
    "tf.disable_v2_behavior()\n",
    "import numpy as np\n",
    "import math\n",
    "import timeit\n",
    "import matplotlib.pyplot as plt\n",
    "%matplotlib inline"
   ]
  },
  {
   "cell_type": "code",
   "execution_count": 4,
   "metadata": {
    "colab": {
     "base_uri": "https://localhost:8080/"
    },
    "collapsed": true,
    "id": "q46VJSi1Z1sq",
    "outputId": "1ff54637-e8f9-4f17-e4a4-f2a30d0724fc"
   },
   "outputs": [
    {
     "name": "stdout",
     "output_type": "stream",
     "text": [
      "Train data shape:  (49000, 32, 32, 3)\n",
      "Train labels shape:  (49000,)\n",
      "Validation data shape:  (1000, 32, 32, 3)\n",
      "Validation labels shape:  (1000,)\n",
      "Test data shape:  (10000, 32, 32, 3)\n",
      "Test labels shape:  (10000,)\n"
     ]
    }
   ],
   "source": [
    "from cs231n.data_utils import load_CIFAR10\n",
    "\n",
    "def get_CIFAR10_data(num_training=49000, num_validation=1000, num_test=10000):\n",
    "    \"\"\"\n",
    "    Load the CIFAR-10 dataset from disk and perform preprocessing to prepare\n",
    "    it for the two-layer neural net classifier. These are the same steps as\n",
    "    we used for the SVM, but condensed to a single function.  \n",
    "    \"\"\"\n",
    "    # Load the raw CIFAR-10 data\n",
    "    cifar10_dir = 'cs231n/datasets/cifar-10-batches-py'\n",
    "    X_train, y_train, X_test, y_test = load_CIFAR10(cifar10_dir)\n",
    "\n",
    "    # Subsample the data\n",
    "    mask = range(num_training, num_training + num_validation)\n",
    "    X_val = X_train[mask]\n",
    "    y_val = y_train[mask]\n",
    "    mask = range(num_training)\n",
    "    X_train = X_train[mask]\n",
    "    y_train = y_train[mask]\n",
    "    mask = range(num_test)\n",
    "    X_test = X_test[mask]\n",
    "    y_test = y_test[mask]\n",
    "\n",
    "    # Normalize the data: subtract the mean image\n",
    "    mean_image = np.mean(X_train, axis=0)\n",
    "    X_train -= mean_image\n",
    "    X_val -= mean_image\n",
    "    X_test -= mean_image\n",
    "\n",
    "    return X_train, y_train, X_val, y_val, X_test, y_test\n",
    "\n",
    "\n",
    "# Invoke the above function to get our data.\n",
    "X_train, y_train, X_val, y_val, X_test, y_test = get_CIFAR10_data()\n",
    "print('Train data shape: ', X_train.shape)\n",
    "print('Train labels shape: ', y_train.shape)\n",
    "print('Validation data shape: ', X_val.shape)\n",
    "print('Validation labels shape: ', y_val.shape)\n",
    "print('Test data shape: ', X_test.shape)\n",
    "print('Test labels shape: ', y_test.shape)"
   ]
  },
  {
   "cell_type": "markdown",
   "metadata": {
    "id": "4E0VxR08Z1sq"
   },
   "source": [
    "## Example Model\n",
    "\n",
    "### Some useful utilities\n",
    "\n",
    ". Remember that our image data is initially N x H x W x C, where:\n",
    "* N is the number of datapoints\n",
    "* H is the height of each image in pixels\n",
    "* W is the height of each image in pixels\n",
    "* C is the number of channels (usually 3: R, G, B)\n",
    "\n",
    "This is the right way to represent the data when we are doing something like a 2D convolution, which needs spatial understanding of where the pixels are relative to each other. When we input image data into fully connected affine layers, however, we want each data example to be represented by a single vector -- it's no longer useful to segregate the different channels, rows, and columns of the data."
   ]
  },
  {
   "cell_type": "markdown",
   "metadata": {
    "id": "IRf_WSTVZ1sr"
   },
   "source": [
    "### The example model itself\n",
    "\n",
    "The first step to training your own model is defining its architecture.\n",
    "\n",
    "Here's an example of a convolutional neural network defined in TensorFlow -- try to understand what each line is doing, remembering that each layer is composed upon the previous layer. We haven't trained anything yet - that'll come next - for now, we want you to understand how everything gets set up. \n",
    "\n",
    "In that example, you see 2D convolutional layers (Conv2d), ReLU activations, and fully-connected layers (Linear). You also see the Hinge loss function, and the Adam optimizer being used. \n",
    "\n",
    "Make sure you understand why the parameters of the Linear layer are 5408 and 10.\n",
    "\n",
    "### TensorFlow Details\n",
    "In TensorFlow, much like in our previous notebooks, we'll first specifically initialize our variables, and then our network model."
   ]
  },
  {
   "cell_type": "code",
   "execution_count": 5,
   "metadata": {
    "collapsed": true,
    "id": "bjU012n0Z1sr"
   },
   "outputs": [],
   "source": [
    "# clear old variables\n",
    "tf.reset_default_graph()\n",
    "#tf.compat.v1.reset_default_graph()\n",
    "\n",
    "# setup input (e.g. the data that changes every batch)\n",
    "# The first dim is None, and gets sets automatically based on batch size fed in\n",
    "X = tf.placeholder(tf.float32, [None, 32, 32, 3])\n",
    "y = tf.placeholder(tf.int64, [None])\n",
    "is_training = tf.placeholder(tf.bool)\n",
    "\n",
    "def simple_model(X,y):\n",
    "    # define our weights (e.g. init_two_layer_convnet)\n",
    "    \n",
    "    # setup variables\n",
    "    Wconv1 = tf.get_variable(\"Wconv1\", shape=[7, 7, 3, 32])\n",
    "    bconv1 = tf.get_variable(\"bconv1\", shape=[32])\n",
    "    W1 = tf.get_variable(\"W1\", shape=[5408, 10])\n",
    "    b1 = tf.get_variable(\"b1\", shape=[10])\n",
    "\n",
    "    # define our graph (e.g. two_layer_convnet)\n",
    "    a1 = tf.nn.conv2d(X, Wconv1, strides=[1,2,2,1], padding='VALID') + bconv1\n",
    "    h1 = tf.nn.relu(a1)\n",
    "    h1_flat = tf.reshape(h1,[-1,5408])\n",
    "    y_out = tf.matmul(h1_flat,W1) + b1\n",
    "    return y_out\n",
    "\n",
    "y_out = simple_model(X,y)\n",
    "\n",
    "# define our loss\n",
    "total_loss = tf.losses.hinge_loss(tf.one_hot(y,10),logits=y_out)\n",
    "mean_loss = tf.reduce_mean(total_loss)\n",
    "\n",
    "# define our optimizer\n",
    "optimizer = tf.train.AdamOptimizer(5e-4) # select optimizer and set learning rate\n",
    "train_step = optimizer.minimize(mean_loss)"
   ]
  },
  {
   "cell_type": "markdown",
   "metadata": {
    "id": "Prfnni17Z1sr"
   },
   "source": [
    "TensorFlow supports many other layer types, loss functions, and optimizers - you will experiment with these next. Here's the official API documentation for these (if any of the parameters used above were unclear, this resource will also be helpful). \n",
    "\n",
    "* Layers, Activations, Loss functions : https://www.tensorflow.org/api_guides/python/nn\n",
    "* Optimizers: https://www.tensorflow.org/api_guides/python/train#Optimizers\n",
    "* BatchNorm: https://www.tensorflow.org/api_docs/python/tf/layers/batch_normalization"
   ]
  },
  {
   "cell_type": "markdown",
   "metadata": {
    "id": "vrDz-i7IZ1ss"
   },
   "source": [
    "### Training the model on one epoch\n",
    "While we have defined a graph of operations above, in order to execute TensorFlow Graphs, by feeding them input data and computing the results, we first need to create a `tf.Session` object. A session encapsulates the control and state of the TensorFlow runtime. For more information, see the TensorFlow [Getting started](https://www.tensorflow.org/get_started/get_started) guide.\n",
    "\n",
    "Optionally we can also specify a device context such as `/cpu:0` or `/gpu:0`. For documentation on this behavior see [this TensorFlow guide](https://www.tensorflow.org/tutorials/using_gpu)\n",
    "\n",
    "You should see a validation loss of around 0.4 to 0.6 and an accuracy of 0.30 to 0.35 below"
   ]
  },
  {
   "cell_type": "code",
   "execution_count": 6,
   "metadata": {
    "colab": {
     "base_uri": "https://localhost:8080/",
     "height": 509
    },
    "collapsed": true,
    "id": "Ax4qfAyTZ1ss",
    "outputId": "110c852d-2c3c-4399-c6e4-7f703f356cbf"
   },
   "outputs": [
    {
     "name": "stdout",
     "output_type": "stream",
     "text": [
      "Training\n",
      "Iteration 0: with minibatch training loss = 5.74 and accuracy of 0.031\n",
      "Iteration 100: with minibatch training loss = 1.11 and accuracy of 0.16\n",
      "Iteration 200: with minibatch training loss = 0.91 and accuracy of 0.23\n",
      "Iteration 300: with minibatch training loss = 0.707 and accuracy of 0.3\n",
      "Iteration 400: with minibatch training loss = 0.597 and accuracy of 0.33\n",
      "Iteration 500: with minibatch training loss = 0.508 and accuracy of 0.3\n",
      "Iteration 600: with minibatch training loss = 0.472 and accuracy of 0.36\n",
      "Iteration 700: with minibatch training loss = 0.541 and accuracy of 0.31\n",
      "Epoch 1, Overall loss = 0.732 and accuracy of 0.314\n"
     ]
    },
    {
     "data": {
      "image/png": "[encoded data removed]",
      "text/plain": [
       "<Figure size 432x288 with 1 Axes>"
      ]
     },
     "metadata": {
      "needs_background": "light"
     },
     "output_type": "display_data"
    },
    {
     "name": "stdout",
     "output_type": "stream",
     "text": [
      "Validation\n",
      "Epoch 1, Overall loss = 0.444 and accuracy of 0.383\n"
     ]
    }
   ],
   "source": [
    "def run_model(session, predict, loss_val, Xd, yd,\n",
    "              epochs=1, batch_size=64, print_every=100,\n",
    "              training=None, plot_losses=False):\n",
    "    # have tensorflow compute accuracy\n",
    "    correct_prediction = tf.equal(tf.argmax(predict,1), y)\n",
    "    accuracy = tf.reduce_mean(tf.cast(correct_prediction, tf.float32))\n",
    "    \n",
    "    # shuffle indicies\n",
    "    train_indicies = np.arange(Xd.shape[0])\n",
    "    np.random.shuffle(train_indicies)\n",
    "\n",
    "    training_now = training is not None\n",
    "    \n",
    "    # setting up variables we want to compute (and optimizing)\n",
    "    # if we have a training function, add that to things we compute\n",
    "    variables = [mean_loss,correct_prediction,accuracy]\n",
    "    if training_now:\n",
    "        variables[-1] = training\n",
    "    \n",
    "    # counter \n",
    "    iter_cnt = 0\n",
    "    for e in range(epochs):\n",
    "        # keep track of losses and accuracy\n",
    "        correct = 0\n",
    "        losses = []\n",
    "        # make sure we iterate over the dataset once\n",
    "        for i in range(int(math.ceil(Xd.shape[0]/batch_size))):\n",
    "            # generate indicies for the batch\n",
    "            start_idx = (i*batch_size)%Xd.shape[0]\n",
    "            idx = train_indicies[start_idx:start_idx+batch_size]\n",
    "            \n",
    "            # create a feed dictionary for this batch\n",
    "            feed_dict = {X: Xd[idx,:],\n",
    "                         y: yd[idx],\n",
    "                         is_training: training_now }\n",
    "            # get batch size\n",
    "            actual_batch_size = yd[idx].shape[0]\n",
    "            \n",
    "            # have tensorflow compute loss and correct predictions\n",
    "            # and (if given) perform a training step\n",
    "            loss, corr, _ = session.run(variables,feed_dict=feed_dict)\n",
    "            \n",
    "            # aggregate performance stats\n",
    "            losses.append(loss*actual_batch_size)\n",
    "            correct += np.sum(corr)\n",
    "            \n",
    "            # print every now and then\n",
    "            if training_now and (iter_cnt % print_every) == 0:\n",
    "                print(\"Iteration {0}: with minibatch training loss = {1:.3g} and accuracy of {2:.2g}\"\\\n",
    "                      .format(iter_cnt,loss,np.sum(corr)/actual_batch_size))\n",
    "            iter_cnt += 1\n",
    "        total_correct = correct/Xd.shape[0]\n",
    "        total_loss = np.sum(losses)/Xd.shape[0]\n",
    "        print(\"Epoch {2}, Overall loss = {0:.3g} and accuracy of {1:.3g}\"\\\n",
    "              .format(total_loss,total_correct,e+1))\n",
    "        if plot_losses:\n",
    "            plt.plot(losses)\n",
    "            plt.grid(True)\n",
    "            plt.title('Epoch {} Loss'.format(e+1))\n",
    "            plt.xlabel('minibatch number')\n",
    "            plt.ylabel('minibatch loss')\n",
    "            plt.show()\n",
    "    return total_loss,total_correct\n",
    "\n",
    "with tf.Session() as sess:\n",
    "    with tf.device(\"/cpu:0\"): #\"/cpu:0\" or \"/gpu:0\" \n",
    "        sess.run(tf.global_variables_initializer())\n",
    "        print('Training')\n",
    "        run_model(sess,y_out,mean_loss,X_train,y_train,1,64,100,train_step,True)\n",
    "        print('Validation')\n",
    "        run_model(sess,y_out,mean_loss,X_val,y_val,1,64)"
   ]
  },
  {
   "cell_type": "markdown",
   "metadata": {
    "id": "wiVHKrMuZ1ss"
   },
   "source": [
    "## Training a specific model\n",
    "\n",
    "In this section, we're going to specify a model for you to construct. The goal here isn't to get good performance (that'll be next), but instead to get comfortable with understanding the TensorFlow documentation and configuring your own model. \n",
    "\n",
    "Using the code provided above as guidance, and using the following TensorFlow documentation, specify a model with the following architecture:\n",
    "\n",
    "* 7x7 Convolutional Layer with 32 filters and stride of 1\n",
    "* ReLU Activation Layer\n",
    "* Spatial Batch Normalization Layer (trainable parameters, with scale and centering)\n",
    "* 2x2 Max Pooling layer with a stride of 2\n",
    "* Affine layer with 1024 output units\n",
    "* ReLU Activation Layer\n",
    "* Affine layer from 1024 input units to 10 outputs\n",
    "\n"
   ]
  },
  {
   "cell_type": "code",
   "execution_count": 7,
   "metadata": {
    "collapsed": true,
    "id": "aId4ExucZ1ss"
   },
   "outputs": [],
   "source": [
    "# clear old variables\n",
    "tf.reset_default_graph()\n",
    "\n",
    "# define our input (e.g. the data that changes every batch)\n",
    "# The first dim is None, and gets sets automatically based on batch size fed in\n",
    "X = tf.placeholder(tf.float32, [None, 32, 32, 3])\n",
    "y = tf.placeholder(tf.int64, [None])\n",
    "is_training = tf.placeholder(tf.bool)\n",
    "\n",
    "# define model\n",
    "def complex_model(X,y,is_training):\n",
    "    Wconv = tf.get_variable(\"Wconv\", shape=[7, 7, 3, 32])\n",
    "    bconv = tf.get_variable(\"bconv\", shape=[32])\n",
    "    gamma_conv = tf.get_variable(\"sc\", shape=[26, 26, 32]) # bn scale param\n",
    "    beta_conv = tf.get_variable(\"oc\", shape=[26, 26, 32]) # bn offset param\n",
    "    W1 = tf.get_variable(\"W1\", shape=[26*26*32//4, 1024])\n",
    "    b1 = tf.get_variable(\"b1\", shape=[1024])\n",
    "    W2 = tf.get_variable(\"W2\", shape=[1024, 10])\n",
    "    b2 = tf.get_variable(\"b2\", shape=[10])\n",
    "\n",
    "    # conv\n",
    "    out1 = tf.nn.conv2d(X, Wconv, strides=[1,1,1,1], padding='VALID') + bconv\n",
    "    # relu\n",
    "    out2 = tf.nn.relu(out1)\n",
    "    # bn_conv\n",
    "    mu, var = tf.nn.moments(out2, axes=[0], keep_dims=False)\n",
    "    out3 = tf.nn.batch_normalization(out2, mu, var, gamma_conv, beta_conv, 1e-6)\n",
    "    # pool\n",
    "    out4 = tf.nn.max_pool(out3, ksize=[1,2,2,1], strides=[1,2,2,1], padding='VALID', data_format='NHWC')\n",
    "    # affine 1\n",
    "    out5 = tf.reshape(out4, [-1, 26*26*32//4])\n",
    "    out6 = tf.matmul(out5, W1) + b1\n",
    "    # affine 2\n",
    "    out7 = tf.matmul(out6, W2) + b2\n",
    "    y_out = out7\n",
    "    return y_out\n",
    "\n",
    "y_out = complex_model(X,y,is_training)"
   ]
  },
  {
   "cell_type": "markdown",
   "metadata": {
    "id": "AcPPQk6hZ1ss"
   },
   "source": [
    "To make sure you're doing the right thing, use the following tool to check the dimensionality of your output (it should be 64 x 10, since our batches have size 64 and the output of the final affine layer should be 10, corresponding to our 10 classes):"
   ]
  },
  {
   "cell_type": "code",
   "execution_count": 8,
   "metadata": {
    "colab": {
     "base_uri": "https://localhost:8080/"
    },
    "collapsed": true,
    "id": "iVrB-ezMZ1ss",
    "outputId": "0524d77d-9c69-4482-f487-c4db4bd164f3"
   },
   "outputs": [
    {
     "name": "stdout",
     "output_type": "stream",
     "text": [
      "2.07 ms ± 157 µs per loop (mean ± std. dev. of 7 runs, 100 loops each)\n",
      "(64, 10)\n",
      "True\n"
     ]
    }
   ],
   "source": [
    "# Now we're going to feed a random batch into the model \n",
    "# and make sure the output is the right size\n",
    "x = np.random.randn(64, 32, 32,3)\n",
    "with tf.Session() as sess:\n",
    "    with tf.device(\"/cpu:0\"): #\"/cpu:0\" or \"/gpu:0\"\n",
    "        tf.global_variables_initializer().run()\n",
    "\n",
    "        ans = sess.run(y_out,feed_dict={X:x,is_training:True})\n",
    "        %timeit sess.run(y_out,feed_dict={X:x,is_training:True})\n",
    "        print(ans.shape)\n",
    "        print(np.array_equal(ans.shape, np.array([64, 10])))"
   ]
  },
  {
   "cell_type": "markdown",
   "metadata": {
    "id": "lDCtdGFqZ1ss"
   },
   "source": [
    "You should see the following from the run above \n",
    "\n",
    "`(64, 10)`\n",
    "\n",
    "`True`"
   ]
  },
  {
   "cell_type": "markdown",
   "metadata": {
    "id": "iAAUSlGeZ1st"
   },
   "source": [
    "### GPU!\n",
    "\n",
    "Now, we're going to try and start the model under the GPU device, the rest of the code stays unchanged and all our variables and operations will be computed using accelerated code paths. However, if there is no GPU, we get a Python exception and have to rebuild our graph. On a dual-core CPU, you might see around 50-80ms/batch running the above, while the Google Cloud GPUs (run below) should be around 2-5ms/batch."
   ]
  },
  {
   "cell_type": "code",
   "execution_count": 9,
   "metadata": {
    "colab": {
     "base_uri": "https://localhost:8080/"
    },
    "collapsed": true,
    "id": "K42Z8J6tZ1st",
    "outputId": "d757f11a-6943-4afb-933b-a310153aaaa3"
   },
   "outputs": [
    {
     "name": "stdout",
     "output_type": "stream",
     "text": [
      "2.49 ms ± 276 µs per loop (mean ± std. dev. of 7 runs, 1000 loops each)\n"
     ]
    }
   ],
   "source": [
    "try:\n",
    "    with tf.Session() as sess:\n",
    "        with tf.device(\"/gpu:0\") as dev: #\"/cpu:0\" or \"/gpu:0\"\n",
    "            tf.global_variables_initializer().run()\n",
    "\n",
    "            ans = sess.run(y_out,feed_dict={X:x,is_training:True})\n",
    "            %timeit sess.run(y_out,feed_dict={X:x,is_training:True})\n",
    "except tf.errors.InvalidArgumentError:\n",
    "    print(\"no gpu found, please use Google Cloud if you want GPU acceleration\")    \n",
    "    # rebuild the graph\n",
    "    # trying to start a GPU throws an exception \n",
    "    # and also trashes the original graph\n",
    "    tf.reset_default_graph()\n",
    "    X = tf.placeholder(tf.float32, [None, 32, 32, 3])\n",
    "    y = tf.placeholder(tf.int64, [None])\n",
    "    is_training = tf.placeholder(tf.bool)\n",
    "    y_out = complex_model(X,y,is_training)"
   ]
  },
  {
   "cell_type": "markdown",
   "metadata": {
    "id": "t2-9KiPmZ1st"
   },
   "source": [
    "You should observe that even a simple forward pass like this is significantly faster on the GPU. So for the rest of the assignment (and when you go train your models in assignment 3 and your project!), you should use GPU devices. However, with TensorFlow, the default device is a GPU if one is available, and a CPU otherwise, so we can skip the device specification from now on."
   ]
  },
  {
   "cell_type": "markdown",
   "metadata": {
    "id": "bL42tj1UZ1st"
   },
   "source": [
    "### Train the model.\n",
    "\n",
    "Now that you've seen how to define a model and do a single forward pass of some data through it, let's  walk through how you'd actually train one whole epoch over your training data (using the complex_model you created provided above).\n",
    "\n",
    "Make sure you understand how each TensorFlow function used below corresponds to what you implemented in your custom neural network implementation.\n",
    "\n",
    "First, set up an **RMSprop optimizer** (using a 1e-3 learning rate) and a **cross-entropy loss** function. See the TensorFlow documentation for more information\n",
    "* Layers, Activations, Loss functions : https://www.tensorflow.org/api_guides/python/nn\n",
    "* Optimizers: https://www.tensorflow.org/api_guides/python/train#Optimizers"
   ]
  },
  {
   "cell_type": "code",
   "execution_count": 10,
   "metadata": {
    "colab": {
     "base_uri": "https://localhost:8080/"
    },
    "collapsed": true,
    "id": "6oqYcVy4Z1st",
    "outputId": "62a75914-1961-4cec-afd7-b2032dcc9d19"
   },
   "outputs": [
    {
     "name": "stderr",
     "output_type": "stream",
     "text": [
      "WARNING:tensorflow:From /usr/local/lib/python3.7/dist-packages/tensorflow/python/training/rmsprop.py:188: calling Ones.__init__ (from tensorflow.python.ops.init_ops) with dtype is deprecated and will be removed in a future version.\n",
      "Instructions for updating:\n",
      "Call initializer instance with the dtype argument instead of passing it to the constructor\n"
     ]
    }
   ],
   "source": [
    "# Inputs\n",
    "#     y_out: is what your model computes\n",
    "#     y: is your TensorFlow variable with label information\n",
    "# Outputs\n",
    "#    mean_loss: a TensorFlow variable (scalar) with numerical loss\n",
    "#    optimizer: a TensorFlow optimizer\n",
    "# This should be ~3 lines of code!\n",
    "mean_loss = tf.reduce_mean(tf.losses.softmax_cross_entropy(tf.one_hot(y,10), logits=y_out))\n",
    "optimizer = tf.train.RMSPropOptimizer(1e-3)\n",
    "train_step = optimizer.minimize(mean_loss)\n"
   ]
  },
  {
   "cell_type": "code",
   "execution_count": 11,
   "metadata": {
    "collapsed": true,
    "id": "YiE-ZTbwZ1st"
   },
   "outputs": [],
   "source": [
    "# batch normalization in tensorflow requires this extra dependency\n",
    "extra_update_ops = tf.get_collection(tf.GraphKeys.UPDATE_OPS)\n",
    "with tf.control_dependencies(extra_update_ops):\n",
    "    train_step = optimizer.minimize(mean_loss)"
   ]
  },
  {
   "cell_type": "markdown",
   "metadata": {
    "id": "32JbkAABZ1st"
   },
   "source": [
    "### Train the model\n",
    "Below we'll create a session and train the model over one epoch. You should see a loss of 1.4 to 2.0 and an accuracy of 0.4 to 0.5. There will be some variation due to random seeds and differences in initialization"
   ]
  },
  {
   "cell_type": "code",
   "execution_count": 12,
   "metadata": {
    "colab": {
     "base_uri": "https://localhost:8080/"
    },
    "collapsed": true,
    "id": "02mZjK2QZ1st",
    "outputId": "0d10b713-905e-42e7-c24f-1c637b670629"
   },
   "outputs": [
    {
     "name": "stdout",
     "output_type": "stream",
     "text": [
      "Training\n",
      "Iteration 0: with minibatch training loss = 2.29 and accuracy of 0.078\n",
      "Iteration 100: with minibatch training loss = 2.18 and accuracy of 0.19\n",
      "Iteration 200: with minibatch training loss = 1.92 and accuracy of 0.34\n",
      "Iteration 300: with minibatch training loss = 1.35 and accuracy of 0.42\n",
      "Iteration 400: with minibatch training loss = 1.65 and accuracy of 0.5\n",
      "Iteration 500: with minibatch training loss = 1.09 and accuracy of 0.67\n",
      "Iteration 600: with minibatch training loss = 1.43 and accuracy of 0.45\n",
      "Iteration 700: with minibatch training loss = 1.45 and accuracy of 0.5\n",
      "Epoch 1, Overall loss = 1.64 and accuracy of 0.408\n"
     ]
    },
    {
     "data": {
      "text/plain": [
       "(1.6401777743320076, 0.40820408163265304)"
      ]
     },
     "execution_count": 12,
     "metadata": {},
     "output_type": "execute_result"
    }
   ],
   "source": [
    "sess = tf.Session()\n",
    "\n",
    "sess.run(tf.global_variables_initializer())\n",
    "print('Training')\n",
    "run_model(sess,y_out,mean_loss,X_train,y_train,1,64,100,train_step)"
   ]
  },
  {
   "cell_type": "markdown",
   "metadata": {
    "id": "w0RofmzkZ1st"
   },
   "source": [
    "### Check the accuracy of the model.\n",
    "\n",
    "Let's see the train and test code in action -- feel free to use these methods when evaluating the models you develop below. You should see a loss of 1.3 to 2.0 with an accuracy of 0.45 to 0.55."
   ]
  },
  {
   "cell_type": "code",
   "execution_count": 13,
   "metadata": {
    "colab": {
     "base_uri": "https://localhost:8080/"
    },
    "collapsed": true,
    "id": "FfUn8eBrZ1st",
    "outputId": "280abf33-cd57-484d-cba4-d1f12e6ab63e"
   },
   "outputs": [
    {
     "name": "stdout",
     "output_type": "stream",
     "text": [
      "Validation\n",
      "Epoch 1, Overall loss = 1.32 and accuracy of 0.534\n"
     ]
    },
    {
     "data": {
      "text/plain": [
       "(1.318832151412964, 0.534)"
      ]
     },
     "execution_count": 13,
     "metadata": {},
     "output_type": "execute_result"
    }
   ],
   "source": [
    "print('Validation')\n",
    "run_model(sess,y_out,mean_loss,X_val,y_val,1,64)"
   ]
  },
  {
   "cell_type": "markdown",
   "metadata": {
    "id": "gTTLp6pdZ1st"
   },
   "source": [
    "## Train a _great_ model on CIFAR-10!\n",
    "\n",
    "Now it's your job to experiment with architectures, hyperparameters, loss functions, and optimizers to train a model that achieves ** >= 70% accuracy on the validation set** of CIFAR-10. You can use the `run_model` function from above."
   ]
  },
  {
   "cell_type": "markdown",
   "metadata": {
    "id": "OC4rz93wZ1st"
   },
   "source": [
    "### Things you should try:\n",
    "- **Filter size**: Above we used 7x7; this makes pretty pictures but smaller filters may be more efficient\n",
    "- **Number of filters**: Above we used 32 filters. Do more or fewer do better?\n",
    "- **Pooling vs Strided Convolution**: Do you use max pooling or just stride convolutions?\n",
    "- **Batch normalization**: Try adding spatial batch normalization after convolution layers and vanilla batch normalization after affine layers. Do your networks train faster?\n",
    "- **Network architecture**: The network above has two layers of trainable parameters. Can you do better with a deep network? Good architectures to try include:\n",
    "    - [conv-relu-pool]xN -> [affine]xM -> [softmax or SVM]\n",
    "    - [conv-relu-conv-relu-pool]xN -> [affine]xM -> [softmax or SVM]\n",
    "    - [batchnorm-relu-conv]xN -> [affine]xM -> [softmax or SVM]\n",
    "- **Use TensorFlow Scope**: Use TensorFlow scope and/or [tf.layers](https://www.tensorflow.org/api_docs/python/tf/layers) to make it easier to write deeper networks. See [this tutorial](https://www.tensorflow.org/tutorials/layers) for how to use `tf.layers`. \n",
    "- **Use Learning Rate Decay**: [As the notes point out](http://cs231n.github.io/neural-networks-3/#anneal), decaying the learning rate might help the model converge. Feel free to decay every epoch, when loss doesn't change over an entire epoch, or any other heuristic you find appropriate. See the [Tensorflow documentation](https://www.tensorflow.org/versions/master/api_guides/python/train#Decaying_the_learning_rate) for learning rate decay.\n",
    "- **Global Average Pooling**: Instead of flattening and then having multiple affine layers, perform convolutions until your image gets small (7x7 or so) and then perform an average pooling operation to get to a 1x1 image picture (1, 1 , Filter#), which is then reshaped into a (Filter#) vector. This is used in [Google's Inception Network](https://arxiv.org/abs/1512.00567) (See Table 1 for their architecture).\n",
    "- **Regularization**: Add l2 weight regularization, or perhaps use [Dropout as in the TensorFlow MNIST tutorial](https://www.tensorflow.org/get_started/mnist/pros)\n",
    "\n",
    "### Tips for training\n",
    "For each network architecture that you try, you should tune the learning rate and regularization strength. When doing this there are a couple important things to keep in mind:\n",
    "\n",
    "- If the parameters are working well, you should see improvement within a few hundred iterations\n",
    "- Remember the coarse-to-fine approach for hyperparameter tuning: start by testing a large range of hyperparameters for just a few training iterations to find the combinations of parameters that are working at all.\n",
    "- Once you have found some sets of parameters that seem to work, search more finely around these parameters. You may need to train for more epochs.\n",
    "- You should use the validation set for hyperparameter search, and we'll save the test set for evaluating your architecture on the best parameters as selected by the validation set.\n",
    "\n",
    "### Going above and beyond\n",
    "If you are feeling adventurous there are many other features you can implement to try and improve your performance. You are **not required** to implement any of these; however they would be good things to try for extra credit.\n",
    "\n",
    "- Alternative update steps: For the assignment we implemented SGD+momentum, RMSprop, and Adam; you could try alternatives like AdaGrad or AdaDelta.\n",
    "- Alternative activation functions such as leaky ReLU, parametric ReLU, ELU, or MaxOut.\n",
    "- Model ensembles\n",
    "- Data augmentation\n",
    "- New Architectures\n",
    "  - [ResNets](https://arxiv.org/abs/1512.03385) where the input from the previous layer is added to the output.\n",
    "  - [DenseNets](https://arxiv.org/abs/1608.06993) where inputs into previous layers are concatenated together.\n",
    "  - [This blog has an in-depth overview](https://chatbotslife.com/resnets-highwaynets-and-densenets-oh-my-9bb15918ee32)\n",
    "\n",
    "If you do decide to implement something extra, clearly describe it in the \"Extra Credit Description\" cell below.\n",
    "\n",
    "### What we expect\n",
    "At the very least, you should be able to train a ConvNet that gets at **>= 70% accuracy on the validation set**. This is just a lower bound - if you are careful it should be possible to get accuracies much higher than that! Extra credit points will be awarded for particularly high-scoring models or unique approaches.\n",
    "\n",
    "You should use the space below to experiment and train your network. The final cell in this notebook should contain the training and validation set accuracies for your final trained network.\n",
    "\n",
    "Have fun and happy training!"
   ]
  },
  {
   "cell_type": "code",
   "execution_count": 92,
   "metadata": {
    "collapsed": true,
    "id": "KWS2rDdLZ1su"
   },
   "outputs": [],
   "source": [
    "# Feel free to play with this cell\n",
    "\n",
    "def my_model(X,y,is_training, reg_strength=1.0):\n",
    "#def my_model(X,y,is_training,keep_prob,beta):\n",
    "    \n",
    "    # Build up model architecture here!\n",
    "\n",
    "    initializer = tf.variance_scaling_initializer(scale=2.0)\n",
    "\n",
    "    # First conv layer, 32 filters of size 3x3, stride 1, padding 1, output size is 32x32x32\n",
    "    Wconv1 = tf.get_variable(\"Wconv1\", shape=[16,16,3,32], initializer=initializer)\n",
    "    bconv1 = tf.get_variable(\"bconv1\", shape=[32])\n",
    "    gamma1 = tf.get_variable(\"gamma1\", shape=[32,32,32])\n",
    "    beta1 = tf.get_variable(\"beta1\", shape=[32,32,32])\n",
    "\n",
    "    Wconv2 = tf.get_variable(\"Wconv2\", shape=[9,9,32,64], initializer=initializer)\n",
    "    bconv2 = tf.get_variable(\"bconv2\", shape=[64])\n",
    "    gamma2 = tf.get_variable(\"gamma2\", shape=[16,16,64])\n",
    "    beta2 = tf.get_variable(\"beta2\", shape=[16,16,64])\n",
    "\n",
    "    Wconv3 = tf.get_variable(\"Wconv3\", shape=[7,7,64,128], initializer=initializer)\n",
    "    bconv3 = tf.get_variable(\"bconv3\", shape=[128])\n",
    "    gamma3 = tf.get_variable(\"gamma3\", shape=[8,8,128])\n",
    "    beta3 = tf.get_variable(\"beta3\", shape=[8,8,128])\n",
    "\n",
    "    Wconv4 = tf.get_variable(\"Wconv4\", shape=[3,3,128,128], initializer=initializer)\n",
    "    bconv4 = tf.get_variable(\"bconv4\", shape=[128])\n",
    "    gamma4 = tf.get_variable(\"gamma4\", shape=[4,4,128])\n",
    "    beta4 = tf.get_variable(\"beta4\", shape=[4,4,128])\n",
    "\n",
    "    W1 = tf.get_variable(\"W1\", shape=[2*2*128, 50])\n",
    "    b1 = tf.get_variable(\"b1\", shape=[50])\n",
    "    W2 = tf.get_variable(\"W2\", shape=[50, 50])\n",
    "    b2 = tf.get_variable(\"b2\", shape=[50])\n",
    "    W3 = tf.get_variable(\"W3\", shape=[50, 10])\n",
    "    b3 = tf.get_variable(\"b3\", shape=[10])\n",
    "\n",
    "    # conv1 -> bn1 -> relu -> dropout1 -> max_pool ->\n",
    "    # conv2 -> bn2 -> relu -> dropout2 -> max_pool ->\n",
    "    # conv3 -> bn3 -> relu -> dropout3 -> max_pool ->\n",
    "    # conv3 -> bn3 -> relu -> dropout3 -> avg_pool ->\n",
    "    # -> fc1 -> fc2\n",
    "    # -> scores\n",
    "\n",
    "\n",
    "\n",
    "    out_conv1 = tf.nn.conv2d(X, Wconv1, strides=[1,1,1,1], padding='SAME') + bconv1\n",
    "    mu1, var1 = tf.nn.moments(out_conv1, axes=[0], keep_dims=False)\n",
    "    out_bn1 = tf.nn.batch_normalization(out_conv1, mu1, var1, gamma1, beta1, 1e-8)\n",
    "    out_relu1 = tf.nn.relu(out_bn1)\n",
    "    out_dropout1 = tf.nn.dropout(out_relu1, keep_prob=0.7)\n",
    "    out_pool1 = tf.nn.max_pool(out_dropout1, ksize=[1,2,2,1], strides=[1,2,2,1], padding='VALID')\n",
    "\n",
    "    out_conv2 = tf.nn.conv2d(out_pool1, Wconv2, strides=[1,1,1,1], padding='SAME') + bconv2\n",
    "    mu2, var2 = tf.nn.moments(out_conv2, axes=[0], keep_dims=False)\n",
    "    out_bn2 = tf.nn.batch_normalization(out_conv2, mu2, var2, gamma2, beta2, 1e-8)\n",
    "    out_relu2 = tf.nn.relu(out_bn2)\n",
    "    out_dropout2 = tf.nn.dropout(out_relu2, keep_prob=0.7)\n",
    "    out_pool2 = tf.nn.max_pool(out_dropout2, ksize=[1,2,2,1], strides=[1,2,2,1], padding='VALID')\n",
    "\n",
    "    out_conv3 = tf.nn.conv2d(out_pool2, Wconv3, strides=[1,1,1,1], padding='SAME') + bconv3\n",
    "    mu3, var3 = tf.nn.moments(out_conv3, axes=[0], keep_dims=False)\n",
    "    out_bn3 = tf.nn.batch_normalization(out_conv3, mu3, var3, gamma3, beta3, 1e-8)\n",
    "    out_relu3 = tf.nn.relu(out_bn3)\n",
    "    out_dropout3 = tf.nn.dropout(out_relu3, keep_prob=0.7)\n",
    "    out_pool3 = tf.nn.max_pool(out_dropout3, ksize=[1,2,2,1], strides=[1,2,2,1], padding='VALID')\n",
    "\n",
    "    out_conv4 = tf.nn.conv2d(out_pool3, Wconv4, strides=[1,1,1,1], padding='SAME') + bconv4\n",
    "    mu4, var4 = tf.nn.moments(out_conv4, axes=[0], keep_dims=False)\n",
    "    out_bn4 = tf.nn.batch_normalization(out_conv4, mu4, var4, gamma4, beta4, 1e-8)\n",
    "    out_relu4 = tf.nn.relu(out_bn4)\n",
    "    out_dropout4 = tf.nn.dropout(out_relu4, keep_prob=0.7)\n",
    "    out_pool4 = tf.nn.avg_pool(out_dropout4, ksize=[1,3,3,1], strides=[1,1,1,1], padding='VALID')\n",
    "\n",
    "    out_pool4_flatten = tf.reshape(out_pool4, [-1, 2*2*128])\n",
    "    out_fc1 = tf.matmul(out_pool4_flatten, W1) + b1\n",
    "    out_fc2 = tf.matmul(out_fc1, W2) + b2\n",
    "    y_out = tf.matmul(out_fc2, W3) + b3\n",
    "\n",
    "    reg_loss = tf.nn.l2_loss(Wconv1) + tf.nn.l2_loss(Wconv2) + tf.nn.l2_loss(Wconv3) + tf.nn.l2_loss(W1) + tf.nn.l2_loss(W2)\n",
    "    reg_loss *= reg_strength\n",
    "\n",
    "    return y_out, reg_loss\n",
    "\n",
    "\n",
    "# Build up computation graph here!\n",
    "tf.reset_default_graph()\n",
    "\n",
    "X = tf.placeholder(tf.float32, [None, 32, 32, 3])\n",
    "y = tf.placeholder(tf.int64, [None])\n",
    "is_training = tf.placeholder(tf.bool)\n",
    "\n",
    "y_out, reg_loss = my_model(X,y,is_training,0)\n",
    "\n",
    "# Define loss and optimizer here!\n",
    "mean_loss = tf.reduce_mean(tf.losses.softmax_cross_entropy(tf.one_hot(y,10), logits=y_out)) + reg_loss\n",
    "optimizer = tf.train.AdamOptimizer(1e-3)\n",
    "#optimizer = tf.train.RMSPropOptimizer(2e-3)\n",
    "# pass\n",
    "\n",
    "# batch normalization in tensorflow requires this extra dependency\n",
    "extra_update_ops = tf.get_collection(tf.GraphKeys.UPDATE_OPS)\n",
    "with tf.control_dependencies(extra_update_ops):\n",
    "    train_step = optimizer.minimize(mean_loss)"
   ]
  },
  {
   "cell_type": "code",
   "execution_count": 93,
   "metadata": {
    "colab": {
     "base_uri": "https://localhost:8080/"
    },
    "collapsed": true,
    "id": "IHJEpClGZ1su",
    "outputId": "9296d2b6-8013-4f9e-fb23-1eb5c9c6a435"
   },
   "outputs": [
    {
     "name": "stdout",
     "output_type": "stream",
     "text": [
      "Training\n",
      "Iteration 0: with minibatch training loss = 2.4 and accuracy of 0.094\n",
      "Iteration 500: with minibatch training loss = 1.49 and accuracy of 0.42\n",
      "Epoch 1, Overall loss = 1.57 and accuracy of 0.418\n",
      "Iteration 1000: with minibatch training loss = 1.34 and accuracy of 0.58\n",
      "Iteration 1500: with minibatch training loss = 1.11 and accuracy of 0.58\n",
      "Epoch 2, Overall loss = 1.27 and accuracy of 0.54\n",
      "Iteration 2000: with minibatch training loss = 0.878 and accuracy of 0.69\n",
      "Epoch 3, Overall loss = 1.13 and accuracy of 0.594\n",
      "Iteration 2500: with minibatch training loss = 1.27 and accuracy of 0.55\n",
      "Iteration 3000: with minibatch training loss = 1.05 and accuracy of 0.62\n",
      "Epoch 4, Overall loss = 1.04 and accuracy of 0.627\n",
      "Iteration 3500: with minibatch training loss = 1.11 and accuracy of 0.58\n",
      "Epoch 5, Overall loss = 0.97 and accuracy of 0.654\n",
      "Iteration 4000: with minibatch training loss = 1.3 and accuracy of 0.56\n",
      "Iteration 4500: with minibatch training loss = 0.969 and accuracy of 0.64\n",
      "Epoch 6, Overall loss = 0.917 and accuracy of 0.673\n",
      "Iteration 5000: with minibatch training loss = 0.996 and accuracy of 0.7\n",
      "Epoch 7, Overall loss = 0.867 and accuracy of 0.694\n",
      "Iteration 5500: with minibatch training loss = 1.13 and accuracy of 0.62\n",
      "Iteration 6000: with minibatch training loss = 0.773 and accuracy of 0.7\n",
      "Epoch 8, Overall loss = 0.83 and accuracy of 0.704\n",
      "Iteration 6500: with minibatch training loss = 0.768 and accuracy of 0.64\n",
      "Epoch 9, Overall loss = 0.791 and accuracy of 0.719\n",
      "Iteration 7000: with minibatch training loss = 0.636 and accuracy of 0.73\n",
      "Iteration 7500: with minibatch training loss = 0.793 and accuracy of 0.67\n",
      "Epoch 10, Overall loss = 0.759 and accuracy of 0.73\n",
      "Iteration 8000: with minibatch training loss = 0.936 and accuracy of 0.61\n",
      "Epoch 11, Overall loss = 0.734 and accuracy of 0.738\n",
      "Iteration 8500: with minibatch training loss = 0.828 and accuracy of 0.66\n",
      "Iteration 9000: with minibatch training loss = 0.68 and accuracy of 0.73\n",
      "Epoch 12, Overall loss = 0.705 and accuracy of 0.749\n",
      "Iteration 9500: with minibatch training loss = 0.945 and accuracy of 0.66\n",
      "Epoch 13, Overall loss = 0.675 and accuracy of 0.759\n",
      "Iteration 10000: with minibatch training loss = 0.72 and accuracy of 0.78\n",
      "Iteration 10500: with minibatch training loss = 0.77 and accuracy of 0.73\n",
      "Epoch 14, Overall loss = 0.655 and accuracy of 0.768\n",
      "Iteration 11000: with minibatch training loss = 0.888 and accuracy of 0.72\n",
      "Epoch 15, Overall loss = 0.63 and accuracy of 0.774\n",
      "Iteration 11500: with minibatch training loss = 0.478 and accuracy of 0.89\n",
      "Iteration 12000: with minibatch training loss = 0.528 and accuracy of 0.81\n",
      "Epoch 16, Overall loss = 0.614 and accuracy of 0.78\n",
      "Iteration 12500: with minibatch training loss = 0.674 and accuracy of 0.7\n",
      "Iteration 13000: with minibatch training loss = 0.516 and accuracy of 0.81\n",
      "Epoch 17, Overall loss = 0.594 and accuracy of 0.785\n",
      "Iteration 13500: with minibatch training loss = 0.345 and accuracy of 0.88\n",
      "Epoch 18, Overall loss = 0.572 and accuracy of 0.794\n",
      "Iteration 14000: with minibatch training loss = 0.808 and accuracy of 0.72\n",
      "Iteration 14500: with minibatch training loss = 0.597 and accuracy of 0.73\n",
      "Epoch 19, Overall loss = 0.558 and accuracy of 0.799\n",
      "Iteration 15000: with minibatch training loss = 0.599 and accuracy of 0.84\n",
      "Epoch 20, Overall loss = 0.541 and accuracy of 0.804\n",
      "Validation\n",
      "Epoch 1, Overall loss = 0.998 and accuracy of 0.686\n"
     ]
    },
    {
     "data": {
      "text/plain": [
       "(0.998245099067688, 0.686)"
      ]
     },
     "execution_count": 93,
     "metadata": {},
     "output_type": "execute_result"
    }
   ],
   "source": [
    "# Feel free to play with this cell\n",
    "# This default code creates a session\n",
    "# and trains your model for 10 epochs\n",
    "# then prints the validation set accuracy\n",
    "sess = tf.Session()\n",
    "\n",
    "sess.run(tf.global_variables_initializer())\n",
    "print('Training')\n",
    "run_model(sess,y_out,mean_loss,X_train,y_train,20,64,500,train_step,False)\n",
    "print('Validation')\n",
    "run_model(sess,y_out,mean_loss,X_val,y_val,1,64)"
   ]
  },
  {
   "cell_type": "code",
   "execution_count": 94,
   "metadata": {
    "colab": {
     "base_uri": "https://localhost:8080/"
    },
    "id": "WwiJ0lbvZ1su",
    "outputId": "31033e35-6b9b-46e8-a7d1-db1ea3aa4575"
   },
   "outputs": [
    {
     "name": "stdout",
     "output_type": "stream",
     "text": [
      "Training\n",
      "Epoch 1, Overall loss = 0.591 and accuracy of 0.791\n",
      "Validation\n",
      "Epoch 1, Overall loss = 0.966 and accuracy of 0.703\n"
     ]
    },
    {
     "data": {
      "text/plain": [
       "(0.9655235981941224, 0.703)"
      ]
     },
     "execution_count": 94,
     "metadata": {},
     "output_type": "execute_result"
    }
   ],
   "source": [
    "# Test your model here, and make sure \n",
    "# the output of this cell is the accuracy\n",
    "# of your best model on the training and val sets\n",
    "# We're looking for >= 70% accuracy on Validation\n",
    "print('Training')\n",
    "run_model(sess,y_out,mean_loss,X_train,y_train,1,64)\n",
    "print('Validation')\n",
    "run_model(sess,y_out,mean_loss,X_val,y_val,1,64)"
   ]
  },
  {
   "cell_type": "markdown",
   "metadata": {
    "id": "OMjvbhJRZ1su"
   },
   "source": [
    "### Describe what you did here\n",
    "In this cell you should also write an explanation of what you did, any additional features that you implemented, and any visualizations or graphs that you make in the process of training and evaluating your network"
   ]
  },
  {
   "cell_type": "markdown",
   "metadata": {
    "id": "5Mo3ycFvZ1su"
   },
   "source": [
    "_My overall model architecture is as follows:    \n",
    "conv1(filter size: 16x16) -> bn1 -> relu -> dropout1 -> max_pool ->     \n",
    "conv2(filter size: 9x9) -> bn2 -> relu -> dropout2 -> max_pool ->     \n",
    "conv3(filter size: 7x7) -> bn3 -> relu -> dropout3 -> max_pool ->     \n",
    "conv4(filter size: 3x3) -> bn4 -> relu -> dropout4 -> avg_pool ->     \n",
    "fc1(512x50) -> fc2(50x50) -> fc3(50x10) -> scores_\n",
    "\n",
    "Summary:     \n",
    "- The number of filters for the 4 convolution layers are respectively 32, 64, 128, 128.\n",
    "- The stride of all convolution layers is 1.\n",
    "- The max pooling layers are of size 2x2.\n",
    "- After each conv layer, there is a batch norm layer, followed by a ReLU, a dropout and a max pooling.\n",
    "- I trained for 20 epochs, and achieved a training accuracy of 0.791 and validation accuracy of 0.703."
   ]
  },
  {
   "cell_type": "markdown",
   "metadata": {
    "id": "hN-L5DAqZ1su"
   },
   "source": [
    "### Test Set - Do this only once\n",
    "Now that we've gotten a result that we're happy with, we test our final model on the test set. This would be the score we would achieve on a competition. Think about how this compares to your validation set accuracy."
   ]
  },
  {
   "cell_type": "code",
   "execution_count": 95,
   "metadata": {
    "colab": {
     "base_uri": "https://localhost:8080/"
    },
    "id": "BGMkDdsOZ1su",
    "outputId": "3a83cfd1-93a4-4ea1-96c0-7f594c2e6227"
   },
   "outputs": [
    {
     "name": "stdout",
     "output_type": "stream",
     "text": [
      "Test\n",
      "Epoch 1, Overall loss = 1.03 and accuracy of 0.682\n"
     ]
    },
    {
     "data": {
      "text/plain": [
       "(1.0275049175262452, 0.6823)"
      ]
     },
     "execution_count": 95,
     "metadata": {},
     "output_type": "execute_result"
    }
   ],
   "source": [
    "print('Test')\n",
    "run_model(sess,y_out,mean_loss,X_test,y_test,1,64)"
   ]
  },
  {
   "cell_type": "markdown",
   "metadata": {
    "id": "RMEszZrlZ1su"
   },
   "source": [
    "## Going further with TensorFlow\n",
    "\n",
    "The next assignment will make heavy use of TensorFlow. You might also find it useful for your projects. \n"
   ]
  },
  {
   "cell_type": "markdown",
   "metadata": {
    "id": "6Pqt6J2TZ1su"
   },
   "source": [
    "# Extra Credit Description\n",
    "If you implement any additional features for extra credit, clearly describe them here with pointers to any code in this or other files if applicable."
   ]
  }
 ],
 "metadata": {
  "accelerator": "GPU",
  "colab": {
   "provenance": []
  },
  "kernelspec": {
   "display_name": "Python 3 (ipykernel)",
   "language": "python",
   "name": "python3"
  },
  "language_info": {
   "codemirror_mode": {
    "name": "ipython",
    "version": 3
   },
   "file_extension": ".py",
   "mimetype": "text/x-python",
   "name": "python",
   "nbconvert_exporter": "python",
   "pygments_lexer": "ipython3",
   "version": "3.9.12"
  }
 },
 "nbformat": 4,
 "nbformat_minor": 1
}
